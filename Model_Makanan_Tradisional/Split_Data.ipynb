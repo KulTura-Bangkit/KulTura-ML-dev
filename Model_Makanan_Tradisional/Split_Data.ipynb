{
 "cells": [
  {
   "attachments": {},
   "cell_type": "markdown",
   "metadata": {},
   "source": [
    "Load Dependencies"
   ]
  },
  {
   "cell_type": "code",
   "execution_count": 2,
   "metadata": {},
   "outputs": [],
   "source": [
    "import os\n",
    "import shutil\n",
    "import random"
   ]
  },
  {
   "cell_type": "code",
   "execution_count": 3,
   "metadata": {},
   "outputs": [],
   "source": [
    "dataset_path = 'Makanan Fix/sate/'\n",
    "\n",
    "# Path untuk set pelatihan, pengujian, dan validasi\n",
    "train_path = 'New_makanan/train/sate/'\n",
    "test_path = 'New_makanan/test/sate/'\n",
    "val_path = 'New_makanan/val/sate/'"
   ]
  },
  {
   "cell_type": "code",
   "execution_count": 71,
   "metadata": {},
   "outputs": [],
   "source": [
    "train_ratio = 0.7\n",
    "test_ratio = 0.2\n",
    "val_ratio = 0.1"
   ]
  },
  {
   "cell_type": "code",
   "execution_count": 72,
   "metadata": {},
   "outputs": [],
   "source": [
    "os.makedirs(train_path, exist_ok=True)\n",
    "os.makedirs(test_path, exist_ok=True)\n",
    "os.makedirs(val_path, exist_ok=True)"
   ]
  },
  {
   "cell_type": "code",
   "execution_count": 4,
   "metadata": {},
   "outputs": [],
   "source": [
    "file_list = os.listdir(dataset_path)"
   ]
  },
  {
   "cell_type": "code",
   "execution_count": 74,
   "metadata": {},
   "outputs": [],
   "source": [
    "random.shuffle(file_list)\n",
    "\n",
    "total_files = len(file_list)\n",
    "\n",
    "train_count = int(total_files * train_ratio)\n",
    "test_count = int(total_files * test_ratio)\n",
    "val_count = total_files - train_count - test_count\n",
    "random.shuffle(file_list)\n",
    "\n",
    "total_files = len(file_list)\n",
    "\n",
    "train_count = int(total_files * train_ratio)\n",
    "test_count = int(total_files * test_ratio)\n",
    "val_count = total_files - train_count - test_count"
   ]
  },
  {
   "cell_type": "code",
   "execution_count": 75,
   "metadata": {},
   "outputs": [],
   "source": [
    "for file_name in file_list[:train_count]:\n",
    "    shutil.copy2(os.path.join(dataset_path, file_name), train_path)\n",
    "\n",
    "for file_name in file_list[train_count:train_count+test_count]:\n",
    "    shutil.copy2(os.path.join(dataset_path, file_name), test_path)\n",
    "\n",
    "for file_name in file_list[train_count+test_count:]:\n",
    "    shutil.copy2(os.path.join(dataset_path, file_name), val_path)"
   ]
  }
 ],
 "metadata": {
  "kernelspec": {
   "display_name": "Python 3",
   "language": "python",
   "name": "python3"
  },
  "language_info": {
   "codemirror_mode": {
    "name": "ipython",
    "version": 3
   },
   "file_extension": ".py",
   "mimetype": "text/x-python",
   "name": "python",
   "nbconvert_exporter": "python",
   "pygments_lexer": "ipython3",
   "version": "3.10.7"
  },
  "orig_nbformat": 4
 },
 "nbformat": 4,
 "nbformat_minor": 2
}
