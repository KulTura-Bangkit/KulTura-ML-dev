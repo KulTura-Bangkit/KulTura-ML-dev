{
 "cells": [
  {
   "attachments": {},
   "cell_type": "markdown",
   "metadata": {},
   "source": [
    "Import Dependencies"
   ]
  },
  {
   "cell_type": "code",
   "execution_count": 2,
   "metadata": {},
   "outputs": [],
   "source": [
    "import tensorflow as tf\n",
    "from tensorflow.keras.preprocessing.image import ImageDataGenerator\n",
    "from tensorflow.keras.preprocessing import image_dataset_from_directory\n",
    "from tensorflow.keras.applications.mobilenet_v2 import MobileNetV2\n",
    "from tensorflow.keras import layers\n",
    "from tensorflow.keras import Model\n",
    "from keras_preprocessing import image\n",
    "from shutil import copyfile\n",
    "from tensorflow.keras.applications.xception import preprocess_input\n",
    "\n",
    "import matplotlib.pyplot as plt\n",
    "import numpy as np\n",
    "import os"
   ]
  },
  {
   "attachments": {},
   "cell_type": "markdown",
   "metadata": {},
   "source": [
    "Import Dataset"
   ]
  },
  {
   "cell_type": "code",
   "execution_count": 18,
   "metadata": {},
   "outputs": [],
   "source": [
    "train_dir = 'New_Makanan/train/'\n",
    "test_dir = 'New_Makanan/test/'\n",
    "val_dir = 'New_Makanan/val/'"
   ]
  },
  {
   "attachments": {},
   "cell_type": "markdown",
   "metadata": {},
   "source": [
    "Split Dataset"
   ]
  },
  {
   "cell_type": "code",
   "execution_count": 19,
   "metadata": {},
   "outputs": [
    {
     "name": "stdout",
     "output_type": "stream",
     "text": [
      "Found 3443 images belonging to 10 classes.\n",
      "Found 981 images belonging to 10 classes.\n",
      "Found 501 images belonging to 10 classes.\n"
     ]
    }
   ],
   "source": [
    "BATCH_SIZE = 32\n",
    "IMG_SIZE = (224, 224)\n",
    "\n",
    "generator = image.ImageDataGenerator(\n",
    "    rescale=1.0/255.0,\n",
    "    rotation_range=45,\n",
    "    width_shift_range=0.25,\n",
    "    height_shift_range=0.25,\n",
    "    shear_range=0.25,\n",
    "    zoom_range=0.25,\n",
    "    horizontal_flip=True,\n",
    "    fill_mode='nearest'\n",
    ")\n",
    "train_images = generator.flow_from_directory(\n",
    "    directory=train_dir, \n",
    "    class_mode='categorical', \n",
    "    color_mode='rgb',\n",
    "    batch_size=BATCH_SIZE, \n",
    "    target_size=IMG_SIZE, \n",
    "    shuffle=True\n",
    ")\n",
    "\n",
    "test_images = generator.flow_from_directory(\n",
    "    directory=test_dir, \n",
    "    class_mode='categorical',\n",
    "    color_mode='rgb',\n",
    "    batch_size=BATCH_SIZE, \n",
    "    target_size=IMG_SIZE,\n",
    "    shuffle=False\n",
    ")\n",
    "\n",
    "val_images = generator.flow_from_directory(\n",
    "    directory=val_dir, \n",
    "    class_mode='categorical',\n",
    "    color_mode='rgb',\n",
    "    batch_size=BATCH_SIZE, \n",
    "    target_size=IMG_SIZE,\n",
    "    shuffle=True\n",
    ")"
   ]
  },
  {
   "attachments": {},
   "cell_type": "markdown",
   "metadata": {},
   "source": [
    "Use Transfer Learning (MobileNetV2)"
   ]
  },
  {
   "cell_type": "code",
   "execution_count": 20,
   "metadata": {},
   "outputs": [],
   "source": [
    "base_model = tf.keras.applications.MobileNetV2(\n",
    "    input_shape=(224, 224, 3),\n",
    "    include_top=False,\n",
    "    weights='imagenet',\n",
    "    pooling='avg'\n",
    ")\n",
    "\n",
    "base_model.trainable = False"
   ]
  },
  {
   "attachments": {},
   "cell_type": "markdown",
   "metadata": {},
   "source": [
    "Add More Layer"
   ]
  },
  {
   "cell_type": "code",
   "execution_count": 21,
   "metadata": {},
   "outputs": [
    {
     "name": "stdout",
     "output_type": "stream",
     "text": [
      "Model: \"sequential_1\"\n",
      "_________________________________________________________________\n",
      " Layer (type)                Output Shape              Param #   \n",
      "=================================================================\n",
      " mobilenetv2_1.00_224 (Funct  (None, 1280)             2257984   \n",
      " ional)                                                          \n",
      "                                                                 \n",
      " flatten_1 (Flatten)         (None, 1280)              0         \n",
      "                                                                 \n",
      " dropout_1 (Dropout)         (None, 1280)              0         \n",
      "                                                                 \n",
      " dense_1 (Dense)             (None, 10)                12810     \n",
      "                                                                 \n",
      "=================================================================\n",
      "Total params: 2,270,794\n",
      "Trainable params: 12,810\n",
      "Non-trainable params: 2,257,984\n",
      "_________________________________________________________________\n"
     ]
    }
   ],
   "source": [
    "model = tf.keras.models.Sequential([\n",
    "    base_model,\n",
    "    tf.keras.layers.Flatten(),\n",
    "    tf.keras.layers.Dropout(0.2),\n",
    "    tf.keras.layers.Dense(10, activation='softmax')\n",
    "])\n",
    "model.summary()"
   ]
  },
  {
   "attachments": {},
   "cell_type": "markdown",
   "metadata": {},
   "source": [
    "Training Model"
   ]
  },
  {
   "cell_type": "code",
   "execution_count": 22,
   "metadata": {},
   "outputs": [],
   "source": [
    "model.compile(\n",
    "    optimizer= tf.keras.optimizers.Adam(learning_rate=0.0001),\n",
    "    loss='categorical_crossentropy',\n",
    "    metrics=['accuracy']\n",
    ")"
   ]
  },
  {
   "cell_type": "code",
   "execution_count": 23,
   "metadata": {},
   "outputs": [
    {
     "name": "stdout",
     "output_type": "stream",
     "text": [
      "Epoch 1/20\n",
      "108/108 [==============================] - 106s 958ms/step - loss: 2.4598 - accuracy: 0.1502 - val_loss: 2.1022 - val_accuracy: 0.2455\n",
      "Epoch 2/20\n",
      "108/108 [==============================] - 126s 1s/step - loss: 2.0999 - accuracy: 0.2541 - val_loss: 1.8441 - val_accuracy: 0.3433\n",
      "Epoch 3/20\n",
      "108/108 [==============================] - 105s 972ms/step - loss: 1.8450 - accuracy: 0.3520 - val_loss: 1.6221 - val_accuracy: 0.4631\n",
      "Epoch 4/20\n",
      "108/108 [==============================] - 121s 1s/step - loss: 1.6640 - accuracy: 0.4310 - val_loss: 1.4680 - val_accuracy: 0.5130\n",
      "Epoch 5/20\n",
      "108/108 [==============================] - 125s 1s/step - loss: 1.5423 - accuracy: 0.4743 - val_loss: 1.3852 - val_accuracy: 0.5230\n",
      "Epoch 6/20\n",
      "108/108 [==============================] - 107s 989ms/step - loss: 1.4479 - accuracy: 0.5187 - val_loss: 1.2708 - val_accuracy: 0.5888\n",
      "Epoch 7/20\n",
      "108/108 [==============================] - 118s 1s/step - loss: 1.3405 - accuracy: 0.5606 - val_loss: 1.2045 - val_accuracy: 0.6248\n",
      "Epoch 8/20\n",
      "108/108 [==============================] - 122s 1s/step - loss: 1.3007 - accuracy: 0.5725 - val_loss: 1.1873 - val_accuracy: 0.6168\n",
      "Epoch 9/20\n",
      "108/108 [==============================] - 122s 1s/step - loss: 1.2158 - accuracy: 0.5986 - val_loss: 1.1216 - val_accuracy: 0.6387\n",
      "Epoch 10/20\n",
      "108/108 [==============================] - 102s 940ms/step - loss: 1.2008 - accuracy: 0.6018 - val_loss: 1.1160 - val_accuracy: 0.6447\n",
      "Epoch 11/20\n",
      "108/108 [==============================] - 119s 1s/step - loss: 1.1687 - accuracy: 0.6178 - val_loss: 1.0908 - val_accuracy: 0.6447\n",
      "Epoch 12/20\n",
      "108/108 [==============================] - 121s 1s/step - loss: 1.1364 - accuracy: 0.6218 - val_loss: 1.0314 - val_accuracy: 0.6687\n",
      "Epoch 13/20\n",
      "108/108 [==============================] - 100s 925ms/step - loss: 1.0982 - accuracy: 0.6445 - val_loss: 1.0207 - val_accuracy: 0.6627\n",
      "Epoch 14/20\n",
      "108/108 [==============================] - 122s 1s/step - loss: 1.0466 - accuracy: 0.6529 - val_loss: 0.9839 - val_accuracy: 0.6727\n",
      "Epoch 15/20\n",
      "108/108 [==============================] - 123s 1s/step - loss: 1.0549 - accuracy: 0.6605 - val_loss: 0.9993 - val_accuracy: 0.7026\n",
      "Epoch 16/20\n",
      "108/108 [==============================] - 114s 1s/step - loss: 1.0185 - accuracy: 0.6619 - val_loss: 0.9217 - val_accuracy: 0.7186\n",
      "Epoch 17/20\n",
      "108/108 [==============================] - 114s 1s/step - loss: 1.0141 - accuracy: 0.6651 - val_loss: 0.9231 - val_accuracy: 0.6926\n",
      "Epoch 18/20\n",
      "108/108 [==============================] - 124s 1s/step - loss: 0.9869 - accuracy: 0.6767 - val_loss: 0.9186 - val_accuracy: 0.7106\n",
      "Epoch 19/20\n",
      "108/108 [==============================] - 120s 1s/step - loss: 0.9852 - accuracy: 0.6689 - val_loss: 0.8977 - val_accuracy: 0.7285\n",
      "Epoch 20/20\n",
      "108/108 [==============================] - 102s 937ms/step - loss: 0.9700 - accuracy: 0.6808 - val_loss: 0.9148 - val_accuracy: 0.6906\n"
     ]
    }
   ],
   "source": [
    "history = model.fit(train_images,\n",
    "                    epochs=20,\n",
    "                    steps_per_epoch=len(train_images),\n",
    "                    validation_data=val_images,\n",
    "                    verbose = 1,\n",
    "                    validation_steps=len(val_images))"
   ]
  },
  {
   "attachments": {},
   "cell_type": "markdown",
   "metadata": {},
   "source": [
    "Training Results"
   ]
  },
  {
   "cell_type": "code",
   "execution_count": 24,
   "metadata": {},
   "outputs": [
    {
     "data": {
      "image/png": "[encoded data removed]",
      "text/plain": [
       "<Figure size 640x480 with 1 Axes>"
      ]
     },
     "metadata": {},
     "output_type": "display_data"
    },
    {
     "data": {
      "image/png": "[encoded data removed]",
      "text/plain": [
       "<Figure size 640x480 with 1 Axes>"
      ]
     },
     "metadata": {},
     "output_type": "display_data"
    }
   ],
   "source": [
    "acc = history.history['accuracy']\n",
    "val_acc = history.history['val_accuracy']\n",
    "loss = history.history['loss']\n",
    "val_loss = history.history['val_loss']\n",
    "\n",
    "epochs = range(len(acc))\n",
    "\n",
    "plt.plot(epochs, acc, 'r', label='Training accuracy')\n",
    "plt.plot(epochs, val_acc, 'b', label='Validation accuracy')\n",
    "plt.title('Training and validation accuracy')\n",
    "plt.legend()\n",
    "plt.figure()\n",
    "\n",
    "plt.plot(epochs, loss, 'r', label='Training loss')\n",
    "plt.plot(epochs, val_loss, 'b', label='Validation loss')\n",
    "plt.title('Training and validation loss')\n",
    "plt.legend()\n",
    "\n",
    "plt.show()"
   ]
  },
  {
   "cell_type": "code",
   "execution_count": 25,
   "metadata": {},
   "outputs": [
    {
     "name": "stderr",
     "output_type": "stream",
     "text": [
      "C:\\Users\\alfia\\AppData\\Local\\Temp\\ipykernel_20328\\1991313292.py:2: UserWarning: `Model.evaluate_generator` is deprecated and will be removed in a future version. Please use `Model.evaluate`, which supports generators.\n",
      "  test_score = model.evaluate_generator(test_images, batch_size)\n"
     ]
    },
    {
     "name": "stdout",
     "output_type": "stream",
     "text": [
      "[INFO] accuracy: 67.81%\n",
      "[INFO] Loss:  0.9934532046318054\n"
     ]
    }
   ],
   "source": [
    "batch_size =20\n",
    "test_score = model.evaluate_generator(test_images, batch_size)\n",
    "print(\"[INFO] accuracy: {:.2f}%\".format(test_score[1] * 100))\n",
    "print(\"[INFO] Loss: \",test_score[0])"
   ]
  },
  {
   "attachments": {},
   "cell_type": "markdown",
   "metadata": {},
   "source": [
    "Save & Export the Model"
   ]
  },
  {
   "cell_type": "code",
   "execution_count": 27,
   "metadata": {},
   "outputs": [],
   "source": [
    "model.save('checkpoint3/MobileNet.h5')"
   ]
  },
  {
   "cell_type": "code",
   "execution_count": 28,
   "metadata": {},
   "outputs": [
    {
     "name": "stderr",
     "output_type": "stream",
     "text": [
      "WARNING:absl:Function `_wrapped_model` contains input name(s) mobilenetv2_1.00_224_input with unsupported characters which will be renamed to mobilenetv2_1_00_224_input in the SavedModel.\n",
      "WARNING:absl:Found untraced functions such as _jit_compiled_convolution_op, _jit_compiled_convolution_op, _jit_compiled_convolution_op, _jit_compiled_convolution_op, _jit_compiled_convolution_op while saving (showing 5 of 52). These functions will not be directly callable after loading.\n"
     ]
    },
    {
     "name": "stdout",
     "output_type": "stream",
     "text": [
      "INFO:tensorflow:Assets written to: checkpoint3\\assets\n"
     ]
    },
    {
     "name": "stderr",
     "output_type": "stream",
     "text": [
      "INFO:tensorflow:Assets written to: checkpoint3\\assets\n"
     ]
    }
   ],
   "source": [
    "saved_model_path = 'checkpoint3'\n",
    "model.save(saved_model_path)"
   ]
  },
  {
   "attachments": {},
   "cell_type": "markdown",
   "metadata": {},
   "source": [
    "Try the Model"
   ]
  },
  {
   "cell_type": "code",
   "execution_count": 9,
   "metadata": {},
   "outputs": [
    {
     "name": "stdout",
     "output_type": "stream",
     "text": [
      "1/1 [==============================] - 1s 766ms/step\n",
      "Predicted class: Gado Gado\n"
     ]
    }
   ],
   "source": [
    "from PIL import Image\n",
    "\n",
    "model = tf.keras.models.load_model('checkpoint3/MobileNet.h5')\n",
    "\n",
    "image_path = 'New_Makanan/test/gado gado/gado gado (75).jpg'\n",
    "image = Image.open(image_path)\n",
    "image = image.resize((224, 224))  \n",
    "image = np.array(image) / 255.0 \n",
    "image = np.expand_dims(image, axis=0)\n",
    "\n",
    "predictions = model.predict(image)\n",
    "predicted_class = np.argmax(predictions[0])\n",
    "\n",
    "class_labels = ['Apem','Ayam Bakar', 'Bakso','Bakwan', 'Gado Gado','Gudeg','Lumpia','Pempek', 'Rendang', 'Sate']  # Replace with your own class labels\n",
    "\n",
    "print(\"Predicted class:\", class_labels[predicted_class])"
   ]
  },
  {
   "cell_type": "code",
   "execution_count": null,
   "metadata": {},
   "outputs": [],
   "source": [
    "Export to Tflite"
   ]
  },
  {
   "cell_type": "code",
   "execution_count": 29,
   "metadata": {},
   "outputs": [],
   "source": [
    "converter = tf.lite.TFLiteConverter.from_saved_model(saved_model_path)\n",
    "tflite_model = converter.convert()\n",
    "\n",
    "with open(os.path.join('checkpoint3/', 'model_MobileNet.tflite'), 'wb') as f:\n",
    "  f.write(tflite_model)"
   ]
  },
  {
   "cell_type": "code",
   "execution_count": null,
   "metadata": {},
   "outputs": [],
   "source": [
    "import itertools\n",
    "\n",
    "optimize_lite_model = False\n",
    "representative_dataset = None\n",
    "num_calibration_examples = 60\n",
    "converter = tf.lite.TFLiteConverter.from_saved_model(saved_model_path)\n",
    "\n",
    "if optimize_lite_model and num_calibration_examples:\n",
    "  representative_dataset = lambda: itertools.islice(\n",
    "      ([image[None, ...]] for batch, _ in train_images for image in batch),\n",
    "      num_calibration_examples)\n",
    "if optimize_lite_model:\n",
    "  converter.optimizations = [tf.lite.Optimize.DEFAULT]\n",
    "  if representative_dataset:\n",
    "    converter.representative_dataset = representative_dataset\n",
    "    \n",
    "lite_model_content = converter.convert()\n",
    "\n",
    "with open('checkpoint3/model_MobileNet.tflite', \"wb\") as f:\n",
    "  f.write(lite_model_content)"
   ]
  }
 ],
 "metadata": {
  "kernelspec": {
   "display_name": "Python 3",
   "language": "python",
   "name": "python3"
  },
  "language_info": {
   "codemirror_mode": {
    "name": "ipython",
    "version": 3
   },
   "file_extension": ".py",
   "mimetype": "text/x-python",
   "name": "python",
   "nbconvert_exporter": "python",
   "pygments_lexer": "ipython3",
   "version": "3.10.7"
  },
  "orig_nbformat": 4
 },
 "nbformat": 4,
 "nbformat_minor": 2
}
